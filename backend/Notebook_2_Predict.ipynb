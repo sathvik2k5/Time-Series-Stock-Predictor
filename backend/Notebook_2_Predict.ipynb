{
  "cells": [
    {
      "cell_type": "code",
      "execution_count": 1,
      "metadata": {
        "id": "2zUjhYQHfTmA"
      },
      "outputs": [],
      "source": [
        "# %pip install keras\n",
        "from keras.models import Sequential\n",
        "from keras.layers import Dense, Dropout, Activation, LSTM\n",
        "import time\n"
      ]
    },
    {
      "cell_type": "markdown",
      "metadata": {
        "id": "UJ0jimOSaLx0"
      },
      "source": [
        "**WHY USE LSTM? Is it good to predict re-occuring data?I didn't get great results from the 1st notebook and decided to try to predict stock price movements by giving in stock price movements instead of just simple stock prices as input**\n",
        "\n",
        "\n",
        "**In this notebook I normalized only the closing prices and then broke it into train and test datasets. I just kept a simple lookback window to give all similar data same movement(movement is just giving the data points the same kind of normalization) and put them in price points as input**\n",
        "\n"
      ]
    },
    {
      "cell_type": "code",
      "execution_count": 2,
      "metadata": {
        "colab": {
          "base_uri": "https://localhost:8080/"
        },
        "id": "Uwk3PeSUGDk3",
        "outputId": "449213bc-0570-4c01-e0ad-ad687a67a63c"
      },
      "outputs": [],
      "source": [
        "# # Code to read csv file into Colaboratory:\n",
        "# !pip install -U -q PyDrive\n",
        "# from pydrive.auth import GoogleAuth\n",
        "# from pydrive.drive import GoogleDrive\n",
        "# from google.colab import auth\n",
        "# from oauth2client.client import GoogleCredentials\n",
        "# # Authenticate and create the PyDrive client.\n",
        "# auth.authenticate_user()\n",
        "# gauth = GoogleAuth()\n",
        "# gauth.credentials = GoogleCredentials.get_application_default()\n",
        "# drive = GoogleDrive(gauth)"
      ]
    },
    {
      "cell_type": "code",
      "execution_count": 3,
      "metadata": {
        "id": "ctysdd5cJzV4"
      },
      "outputs": [],
      "source": [
        "# link = 'https://drive.google.com/file/d/1kF8vlqjNrqoeUavSQr3mkd8KNVkmfigK/view?usp=sharing'"
      ]
    },
    {
      "cell_type": "code",
      "execution_count": 4,
      "metadata": {
        "colab": {
          "base_uri": "https://localhost:8080/"
        },
        "id": "_RCOZpTdND1z",
        "outputId": "d92b5311-f02d-4912-e536-89f7d4dd3460"
      },
      "outputs": [],
      "source": [
        "# fluff, id = link.split('=')\n",
        "# print (id) # Verify that you have everything after '='"
      ]
    },
    {
      "cell_type": "code",
      "execution_count": 5,
      "metadata": {
        "colab": {
          "base_uri": "https://localhost:8080/"
        },
        "id": "hyxINN1tNEqW",
        "outputId": "ed3ccdd0-cbbf-4541-ed7b-f7441209d39c"
      },
      "outputs": [],
      "source": [
        "import pandas as pd\n",
        "# !pip install gdown -q\n",
        "# !gdown --id 1ot1gEfwovdcqV7BszQf9gpRkTTjs1fEh\n",
        "# # downloaded = drive.CreateFile({'id':id})\n",
        "# # downloaded.GetContentFile('AMZN.csv')\n",
        "# # Dataset is now stored in a Pandas Dataframe\n",
        "df3 = pd.read_csv('AMZN_features.csv')\n",
        "# Dataset is now stored in a Pandas Dataframe"
      ]
    },
    {
      "cell_type": "code",
      "execution_count": 6,
      "metadata": {
        "id": "TKqVdqkHNPEq"
      },
      "outputs": [],
      "source": [
        "#VANILLA LSTM NETWORK CREATED:"
      ]
    },
    {
      "cell_type": "code",
      "execution_count": 7,
      "metadata": {
        "id": "biH6rwhyOAAm"
      },
      "outputs": [],
      "source": [
        "# %pip install keras\n",
        "from keras.models import Sequential\n",
        "from keras.layers import Dense, Dropout, Activation, LSTM\n",
        "# import time\n",
        "import time #helper libraries"
      ]
    },
    {
      "cell_type": "code",
      "execution_count": 8,
      "metadata": {
        "id": "OtRzd9-IOB8L"
      },
      "outputs": [],
      "source": [
        "df3 = df3.dropna(axis = \"columns\")"
      ]
    },
    {
      "cell_type": "code",
      "execution_count": 9,
      "metadata": {
        "colab": {
          "base_uri": "https://localhost:8080/",
          "height": 206
        },
        "id": "77Me2RVdPMy6",
        "outputId": "ab99480f-08e9-4989-fb75-e8f3ac7a0bcd"
      },
      "outputs": [
        {
          "data": {
            "text/html": [
              "<div>\n",
              "<style scoped>\n",
              "    .dataframe tbody tr th:only-of-type {\n",
              "        vertical-align: middle;\n",
              "    }\n",
              "\n",
              "    .dataframe tbody tr th {\n",
              "        vertical-align: top;\n",
              "    }\n",
              "\n",
              "    .dataframe thead th {\n",
              "        text-align: right;\n",
              "    }\n",
              "</style>\n",
              "<table border=\"1\" class=\"dataframe\">\n",
              "  <thead>\n",
              "    <tr style=\"text-align: right;\">\n",
              "      <th></th>\n",
              "      <th>Date</th>\n",
              "      <th>Close</th>\n",
              "      <th>High</th>\n",
              "      <th>Low</th>\n",
              "      <th>Open</th>\n",
              "      <th>Volume</th>\n",
              "    </tr>\n",
              "  </thead>\n",
              "  <tbody>\n",
              "    <tr>\n",
              "      <th>0</th>\n",
              "      <td>2005-01-03</td>\n",
              "      <td>2.2260</td>\n",
              "      <td>2.2720</td>\n",
              "      <td>2.2105</td>\n",
              "      <td>2.2475</td>\n",
              "      <td>208930000</td>\n",
              "    </tr>\n",
              "    <tr>\n",
              "      <th>1</th>\n",
              "      <td>2005-01-04</td>\n",
              "      <td>2.1070</td>\n",
              "      <td>2.1630</td>\n",
              "      <td>2.0750</td>\n",
              "      <td>2.1335</td>\n",
              "      <td>388370000</td>\n",
              "    </tr>\n",
              "    <tr>\n",
              "      <th>2</th>\n",
              "      <td>2005-01-05</td>\n",
              "      <td>2.0885</td>\n",
              "      <td>2.1380</td>\n",
              "      <td>2.0780</td>\n",
              "      <td>2.0785</td>\n",
              "      <td>167084000</td>\n",
              "    </tr>\n",
              "    <tr>\n",
              "      <th>3</th>\n",
              "      <td>2005-01-06</td>\n",
              "      <td>2.0525</td>\n",
              "      <td>2.1125</td>\n",
              "      <td>2.0450</td>\n",
              "      <td>2.0905</td>\n",
              "      <td>174018000</td>\n",
              "    </tr>\n",
              "    <tr>\n",
              "      <th>4</th>\n",
              "      <td>2005-01-07</td>\n",
              "      <td>2.1160</td>\n",
              "      <td>2.1345</td>\n",
              "      <td>2.0580</td>\n",
              "      <td>2.0690</td>\n",
              "      <td>196732000</td>\n",
              "    </tr>\n",
              "  </tbody>\n",
              "</table>\n",
              "</div>"
            ],
            "text/plain": [
              "         Date   Close    High     Low    Open     Volume\n",
              "0  2005-01-03  2.2260  2.2720  2.2105  2.2475  208930000\n",
              "1  2005-01-04  2.1070  2.1630  2.0750  2.1335  388370000\n",
              "2  2005-01-05  2.0885  2.1380  2.0780  2.0785  167084000\n",
              "3  2005-01-06  2.0525  2.1125  2.0450  2.0905  174018000\n",
              "4  2005-01-07  2.1160  2.1345  2.0580  2.0690  196732000"
            ]
          },
          "execution_count": 9,
          "metadata": {},
          "output_type": "execute_result"
        }
      ],
      "source": [
        "df3.head()"
      ]
    },
    {
      "cell_type": "code",
      "execution_count": 10,
      "metadata": {
        "id": "1LArM8rQPU6Y"
      },
      "outputs": [],
      "source": [
        "#working with a conventional OHCLV dataset"
      ]
    },
    {
      "cell_type": "code",
      "execution_count": 11,
      "metadata": {
        "id": "AUI-7-jpPgdJ"
      },
      "outputs": [],
      "source": [
        "import numpy as np"
      ]
    },
    {
      "cell_type": "code",
      "execution_count": 12,
      "metadata": {
        "id": "gqkI7vdpQB3d"
      },
      "outputs": [],
      "source": [
        "#FOCUS ON PREDICTING CLOSING PRICES AS BEFORE"
      ]
    },
    {
      "cell_type": "code",
      "execution_count": 13,
      "metadata": {
        "id": "4_eLiOTqSt1p"
      },
      "outputs": [],
      "source": [
        "df_close = df3['Close']"
      ]
    },
    {
      "cell_type": "code",
      "execution_count": 14,
      "metadata": {
        "colab": {
          "base_uri": "https://localhost:8080/"
        },
        "id": "CpmyiqPMS6lv",
        "outputId": "69378dd2-f57f-494e-cd67-d2b929f04ed5"
      },
      "outputs": [
        {
          "data": {
            "text/plain": [
              "(5033,)"
            ]
          },
          "execution_count": 14,
          "metadata": {},
          "output_type": "execute_result"
        }
      ],
      "source": [
        "df_close.shape"
      ]
    },
    {
      "cell_type": "code",
      "execution_count": 15,
      "metadata": {
        "id": "cFX_SbARTFbK"
      },
      "outputs": [],
      "source": [
        "#Reshaping it\n",
        "# df_close = df_close.values.reshape(2629,1)"
      ]
    },
    {
      "cell_type": "code",
      "execution_count": 17,
      "metadata": {
        "colab": {
          "base_uri": "https://localhost:8080/",
          "height": 430
        },
        "id": "-kd1EeAMTShd",
        "outputId": "507cbc46-5409-4436-f96d-cc7aa0767a80"
      },
      "outputs": [
        {
          "data": {
            "image/png": "[encoded data removed]",
            "text/plain": [
              "<Figure size 640x480 with 1 Axes>"
            ]
          },
          "metadata": {},
          "output_type": "display_data"
        }
      ],
      "source": [
        "plt.plot(df_close)\n",
        "plt.show()\n",
        "\n",
        "scaler = MinMaxScaler(feature_range=(0, 1))\n",
        "df_close = scaler.fit_transform(df_close.values.reshape(-1, 1))\n"
      ]
    },
    {
      "cell_type": "code",
      "execution_count": 18,
      "metadata": {
        "colab": {
          "base_uri": "https://localhost:8080/"
        },
        "id": "Qwu51GYWUIul",
        "outputId": "8312b269-3334-44da-a655-6ceccd8f0aaf"
      },
      "outputs": [
        {
          "name": "stdout",
          "output_type": "stream",
          "text": [
            "4026 1007\n"
          ]
        }
      ],
      "source": [
        "train_size = int(len(df_close) * 0.80)\n",
        "test_size = len(df_close) - train_size\n",
        "train, test = df_close[0:train_size,:], df_close[train_size:len(df_close),:]\n",
        "print(len(train), len(test))"
      ]
    },
    {
      "cell_type": "markdown",
      "metadata": {
        "id": "Gyaecf7d87tN"
      },
      "source": [
        "**Normalize the values such that prices are reduced to normalized values and I can predict stock movement instead of actual prices**"
      ]
    },
    {
      "cell_type": "code",
      "execution_count": 19,
      "metadata": {
        "id": "Ria-4F-4V_Xn"
      },
      "outputs": [],
      "source": [
        "# convert an array of values into a dataset matrix\n",
        "def create_dataset(dataset, look_back=1): #keep only similar value data if a data point is too far of the last one jump to the next value\n",
        "\tdataX, dataY = [], []       #put this in data x\n",
        "\tfor i in range(len(dataset)-look_back-1): #let dataY have only output values\n",
        "\t\ta = dataset[i:(i+look_back), 0]\n",
        "\t\tdataX.append(a)\n",
        "\t\tdataY.append(dataset[i + look_back, 0])\n",
        "\treturn np.array(dataX), np.array(dataY)"
      ]
    },
    {
      "cell_type": "code",
      "execution_count": 20,
      "metadata": {
        "id": "atRqDg15WGbV"
      },
      "outputs": [],
      "source": [
        "# reshape into X=t and Y=t+1\n",
        "look_back = 1\n",
        "trainX, trainY = create_dataset(train, look_back)\n",
        "testX, testY = create_dataset(test, look_back)"
      ]
    },
    {
      "cell_type": "code",
      "execution_count": 21,
      "metadata": {
        "id": "PVeSyYXXWNlT"
      },
      "outputs": [],
      "source": [
        "trainX = np.reshape(trainX, (trainX.shape[0], look_back, trainX.shape[1]))\n",
        "testX = np.reshape(testX, (testX.shape[0], look_back, testX.shape[1]))"
      ]
    },
    {
      "cell_type": "code",
      "execution_count": 22,
      "metadata": {
        "colab": {
          "base_uri": "https://localhost:8080/"
        },
        "id": "ci3EQtyrWSgh",
        "outputId": "98a92383-4750-403e-aa93-64066ecc78bb"
      },
      "outputs": [
        {
          "name": "stdout",
          "output_type": "stream",
          "text": [
            "compilation time :  0.03233194351196289\n"
          ]
        }
      ],
      "source": [
        "#Step 2 Build Model\n",
        "model = Sequential()\n",
        "\n",
        "model.add(LSTM(\n",
        "    units=50,\n",
        "    input_shape=(look_back, 1), # Changed input_dim to input_shape\n",
        "    return_sequences=True))\n",
        "model.add(Dropout(0.2))\n",
        "\n",
        "model.add(LSTM(\n",
        "    units=100,\n",
        "    return_sequences=False))\n",
        "model.add(Dropout(0.2))\n",
        "\n",
        "model.add(Dense(\n",
        "    units=1))\n",
        "model.add(Activation('relu'))\n",
        "\n",
        "start = time.time()\n",
        "model.compile(loss='mse', optimizer='rmsprop', metrics=['mae'])\n",
        "print ('compilation time : ', time.time() - start)"
      ]
    },
    {
      "cell_type": "code",
      "execution_count": 23,
      "metadata": {
        "colab": {
          "base_uri": "https://localhost:8080/"
        },
        "id": "tzikjpoYWXKw",
        "outputId": "0a70fa85-7b25-4079-978e-98ccb5bf59ef"
      },
      "outputs": [
        {
          "name": "stdout",
          "output_type": "stream",
          "text": [
            "Epoch 1/80\n",
            "30/30 [==============================] - 20s 127ms/step - loss: 0.0164 - mae: 0.0898 - val_loss: 0.2459 - val_mae: 0.4863\n",
            "Epoch 2/80\n",
            "30/30 [==============================] - 1s 23ms/step - loss: 0.0142 - mae: 0.0946 - val_loss: 0.2374 - val_mae: 0.4781\n",
            "Epoch 3/80\n",
            "30/30 [==============================] - 1s 30ms/step - loss: 0.0133 - mae: 0.0911 - val_loss: 0.2182 - val_mae: 0.4585\n",
            "Epoch 4/80\n",
            "30/30 [==============================] - 1s 23ms/step - loss: 0.0118 - mae: 0.0856 - val_loss: 0.1847 - val_mae: 0.4217\n",
            "Epoch 5/80\n",
            "30/30 [==============================] - 1s 26ms/step - loss: 0.0097 - mae: 0.0779 - val_loss: 0.1432 - val_mae: 0.3713\n",
            "Epoch 6/80\n",
            "30/30 [==============================] - 1s 25ms/step - loss: 0.0070 - mae: 0.0659 - val_loss: 0.0946 - val_mae: 0.3016\n",
            "Epoch 7/80\n",
            "30/30 [==============================] - 1s 24ms/step - loss: 0.0043 - mae: 0.0510 - val_loss: 0.0519 - val_mae: 0.2236\n",
            "Epoch 8/80\n",
            "30/30 [==============================] - 1s 24ms/step - loss: 0.0020 - mae: 0.0333 - val_loss: 0.0156 - val_mae: 0.1216\n",
            "Epoch 9/80\n",
            "30/30 [==============================] - 1s 27ms/step - loss: 7.0227e-04 - mae: 0.0184 - val_loss: 0.0033 - val_mae: 0.0544\n",
            "Epoch 10/80\n",
            "30/30 [==============================] - 1s 27ms/step - loss: 3.4350e-04 - mae: 0.0112 - val_loss: 7.1013e-04 - val_mae: 0.0231\n",
            "Epoch 11/80\n",
            "30/30 [==============================] - 1s 26ms/step - loss: 2.7845e-04 - mae: 0.0098 - val_loss: 2.2288e-04 - val_mae: 0.0113\n",
            "Epoch 12/80\n",
            "30/30 [==============================] - 1s 27ms/step - loss: 2.6422e-04 - mae: 0.0098 - val_loss: 3.4269e-04 - val_mae: 0.0150\n",
            "Epoch 13/80\n",
            "30/30 [==============================] - 1s 23ms/step - loss: 2.7066e-04 - mae: 0.0099 - val_loss: 2.5900e-04 - val_mae: 0.0126\n",
            "Epoch 14/80\n",
            "30/30 [==============================] - 1s 24ms/step - loss: 2.4489e-04 - mae: 0.0095 - val_loss: 2.1062e-04 - val_mae: 0.0108\n",
            "Epoch 15/80\n",
            "30/30 [==============================] - 1s 28ms/step - loss: 2.4884e-04 - mae: 0.0096 - val_loss: 4.0241e-04 - val_mae: 0.0165\n",
            "Epoch 16/80\n",
            "30/30 [==============================] - 1s 24ms/step - loss: 2.3077e-04 - mae: 0.0093 - val_loss: 2.0444e-04 - val_mae: 0.0106\n",
            "Epoch 17/80\n",
            "30/30 [==============================] - 1s 25ms/step - loss: 2.4921e-04 - mae: 0.0097 - val_loss: 3.1577e-04 - val_mae: 0.0143\n",
            "Epoch 18/80\n",
            "30/30 [==============================] - 1s 27ms/step - loss: 2.6061e-04 - mae: 0.0100 - val_loss: 3.3575e-04 - val_mae: 0.0148\n",
            "Epoch 19/80\n",
            "30/30 [==============================] - 1s 25ms/step - loss: 2.3419e-04 - mae: 0.0094 - val_loss: 2.7478e-04 - val_mae: 0.0131\n",
            "Epoch 20/80\n",
            "30/30 [==============================] - 1s 28ms/step - loss: 2.5220e-04 - mae: 0.0097 - val_loss: 2.6697e-04 - val_mae: 0.0129\n",
            "Epoch 21/80\n",
            "30/30 [==============================] - 1s 25ms/step - loss: 2.1897e-04 - mae: 0.0094 - val_loss: 3.7306e-04 - val_mae: 0.0158\n",
            "Epoch 22/80\n",
            "30/30 [==============================] - 1s 23ms/step - loss: 2.2153e-04 - mae: 0.0095 - val_loss: 2.1024e-04 - val_mae: 0.0109\n",
            "Epoch 23/80\n",
            "30/30 [==============================] - 1s 26ms/step - loss: 2.1938e-04 - mae: 0.0094 - val_loss: 3.1646e-04 - val_mae: 0.0144\n",
            "Epoch 24/80\n",
            "30/30 [==============================] - 1s 27ms/step - loss: 2.1106e-04 - mae: 0.0093 - val_loss: 2.3718e-04 - val_mae: 0.0119\n",
            "Epoch 25/80\n",
            "30/30 [==============================] - 1s 25ms/step - loss: 2.1765e-04 - mae: 0.0093 - val_loss: 3.7219e-04 - val_mae: 0.0158\n",
            "Epoch 26/80\n",
            "30/30 [==============================] - 1s 27ms/step - loss: 2.1122e-04 - mae: 0.0095 - val_loss: 4.3613e-04 - val_mae: 0.0174\n",
            "Epoch 27/80\n",
            "30/30 [==============================] - 1s 31ms/step - loss: 2.0425e-04 - mae: 0.0091 - val_loss: 2.2897e-04 - val_mae: 0.0116\n",
            "Epoch 28/80\n",
            "30/30 [==============================] - 1s 29ms/step - loss: 2.1266e-04 - mae: 0.0095 - val_loss: 4.4372e-04 - val_mae: 0.0176\n",
            "Epoch 29/80\n",
            "30/30 [==============================] - 1s 23ms/step - loss: 2.1093e-04 - mae: 0.0095 - val_loss: 6.9015e-04 - val_mae: 0.0230\n",
            "Epoch 30/80\n",
            "30/30 [==============================] - 1s 24ms/step - loss: 2.2996e-04 - mae: 0.0100 - val_loss: 2.0667e-04 - val_mae: 0.0106\n",
            "Epoch 31/80\n",
            "30/30 [==============================] - 1s 24ms/step - loss: 2.0566e-04 - mae: 0.0095 - val_loss: 2.3101e-04 - val_mae: 0.0117\n",
            "Epoch 32/80\n",
            "30/30 [==============================] - 1s 27ms/step - loss: 2.1527e-04 - mae: 0.0095 - val_loss: 2.9058e-04 - val_mae: 0.0136\n",
            "Epoch 33/80\n",
            "30/30 [==============================] - 1s 27ms/step - loss: 2.0220e-04 - mae: 0.0091 - val_loss: 2.9885e-04 - val_mae: 0.0139\n",
            "Epoch 34/80\n",
            "30/30 [==============================] - 1s 25ms/step - loss: 2.2403e-04 - mae: 0.0098 - val_loss: 2.3583e-04 - val_mae: 0.0118\n",
            "Epoch 35/80\n",
            "30/30 [==============================] - 1s 24ms/step - loss: 2.0015e-04 - mae: 0.0093 - val_loss: 2.0982e-04 - val_mae: 0.0109\n",
            "Epoch 36/80\n",
            "30/30 [==============================] - 1s 23ms/step - loss: 2.1744e-04 - mae: 0.0097 - val_loss: 3.9152e-04 - val_mae: 0.0163\n",
            "Epoch 37/80\n",
            "30/30 [==============================] - 1s 28ms/step - loss: 2.0735e-04 - mae: 0.0097 - val_loss: 2.3812e-04 - val_mae: 0.0119\n",
            "Epoch 38/80\n",
            "30/30 [==============================] - 1s 23ms/step - loss: 1.9772e-04 - mae: 0.0092 - val_loss: 2.1596e-04 - val_mae: 0.0111\n",
            "Epoch 39/80\n",
            "30/30 [==============================] - 1s 26ms/step - loss: 1.9733e-04 - mae: 0.0093 - val_loss: 2.2216e-04 - val_mae: 0.0114\n",
            "Epoch 40/80\n",
            "30/30 [==============================] - 1s 24ms/step - loss: 2.1441e-04 - mae: 0.0095 - val_loss: 2.9511e-04 - val_mae: 0.0138\n",
            "Epoch 41/80\n",
            "30/30 [==============================] - 1s 26ms/step - loss: 2.0313e-04 - mae: 0.0094 - val_loss: 2.2648e-04 - val_mae: 0.0115\n",
            "Epoch 42/80\n",
            "30/30 [==============================] - 1s 26ms/step - loss: 2.0019e-04 - mae: 0.0095 - val_loss: 2.2825e-04 - val_mae: 0.0116\n",
            "Epoch 43/80\n",
            "30/30 [==============================] - 1s 27ms/step - loss: 2.1735e-04 - mae: 0.0096 - val_loss: 3.0964e-04 - val_mae: 0.0142\n",
            "Epoch 44/80\n",
            "30/30 [==============================] - 1s 23ms/step - loss: 1.9924e-04 - mae: 0.0092 - val_loss: 3.2403e-04 - val_mae: 0.0146\n",
            "Epoch 45/80\n",
            "30/30 [==============================] - 1s 29ms/step - loss: 2.0232e-04 - mae: 0.0095 - val_loss: 2.1851e-04 - val_mae: 0.0112\n",
            "Epoch 46/80\n",
            "30/30 [==============================] - 1s 25ms/step - loss: 1.8552e-04 - mae: 0.0092 - val_loss: 3.0149e-04 - val_mae: 0.0140\n",
            "Epoch 47/80\n",
            "30/30 [==============================] - 1s 24ms/step - loss: 2.1292e-04 - mae: 0.0094 - val_loss: 5.0856e-04 - val_mae: 0.0191\n",
            "Epoch 48/80\n",
            "30/30 [==============================] - 1s 24ms/step - loss: 2.0470e-04 - mae: 0.0095 - val_loss: 3.3246e-04 - val_mae: 0.0148\n",
            "Epoch 49/80\n",
            "30/30 [==============================] - 1s 27ms/step - loss: 1.9596e-04 - mae: 0.0093 - val_loss: 3.0547e-04 - val_mae: 0.0141\n",
            "Epoch 50/80\n",
            "30/30 [==============================] - 1s 23ms/step - loss: 2.0462e-04 - mae: 0.0094 - val_loss: 2.6294e-04 - val_mae: 0.0128\n",
            "Epoch 51/80\n",
            "30/30 [==============================] - 1s 25ms/step - loss: 2.0991e-04 - mae: 0.0098 - val_loss: 2.2614e-04 - val_mae: 0.0115\n",
            "Epoch 52/80\n",
            "30/30 [==============================] - 1s 24ms/step - loss: 1.9067e-04 - mae: 0.0093 - val_loss: 3.9612e-04 - val_mae: 0.0164\n",
            "Epoch 53/80\n",
            "30/30 [==============================] - 1s 27ms/step - loss: 2.0405e-04 - mae: 0.0092 - val_loss: 2.3698e-04 - val_mae: 0.0119\n",
            "Epoch 54/80\n",
            "30/30 [==============================] - 1s 27ms/step - loss: 1.9114e-04 - mae: 0.0092 - val_loss: 4.0905e-04 - val_mae: 0.0167\n",
            "Epoch 55/80\n",
            "30/30 [==============================] - 1s 27ms/step - loss: 2.0855e-04 - mae: 0.0097 - val_loss: 2.1179e-04 - val_mae: 0.0110\n",
            "Epoch 56/80\n",
            "30/30 [==============================] - 1s 27ms/step - loss: 1.8355e-04 - mae: 0.0090 - val_loss: 2.9486e-04 - val_mae: 0.0138\n",
            "Epoch 57/80\n",
            "30/30 [==============================] - 1s 27ms/step - loss: 2.0078e-04 - mae: 0.0093 - val_loss: 2.3301e-04 - val_mae: 0.0117\n",
            "Epoch 58/80\n",
            "30/30 [==============================] - 1s 26ms/step - loss: 1.9737e-04 - mae: 0.0092 - val_loss: 2.1509e-04 - val_mae: 0.0111\n",
            "Epoch 59/80\n",
            "30/30 [==============================] - 1s 25ms/step - loss: 1.9528e-04 - mae: 0.0093 - val_loss: 2.0836e-04 - val_mae: 0.0108\n",
            "Epoch 60/80\n",
            "30/30 [==============================] - 1s 24ms/step - loss: 1.9140e-04 - mae: 0.0092 - val_loss: 2.1202e-04 - val_mae: 0.0109\n",
            "Epoch 61/80\n",
            "30/30 [==============================] - 1s 29ms/step - loss: 1.7165e-04 - mae: 0.0089 - val_loss: 2.0635e-04 - val_mae: 0.0106\n",
            "Epoch 62/80\n",
            "30/30 [==============================] - 1s 26ms/step - loss: 1.9897e-04 - mae: 0.0094 - val_loss: 2.2461e-04 - val_mae: 0.0114\n",
            "Epoch 63/80\n",
            "30/30 [==============================] - 1s 24ms/step - loss: 2.0011e-04 - mae: 0.0094 - val_loss: 2.6996e-04 - val_mae: 0.0130\n",
            "Epoch 64/80\n",
            "30/30 [==============================] - 1s 25ms/step - loss: 1.9118e-04 - mae: 0.0091 - val_loss: 2.1060e-04 - val_mae: 0.0109\n",
            "Epoch 65/80\n",
            "30/30 [==============================] - 1s 25ms/step - loss: 1.8587e-04 - mae: 0.0093 - val_loss: 2.7536e-04 - val_mae: 0.0132\n",
            "Epoch 66/80\n",
            "30/30 [==============================] - 1s 26ms/step - loss: 1.7389e-04 - mae: 0.0087 - val_loss: 2.1235e-04 - val_mae: 0.0109\n",
            "Epoch 67/80\n",
            "30/30 [==============================] - 1s 23ms/step - loss: 2.0045e-04 - mae: 0.0095 - val_loss: 3.0985e-04 - val_mae: 0.0142\n",
            "Epoch 68/80\n",
            "30/30 [==============================] - 1s 24ms/step - loss: 1.7610e-04 - mae: 0.0089 - val_loss: 2.2426e-04 - val_mae: 0.0114\n",
            "Epoch 69/80\n",
            "30/30 [==============================] - 1s 24ms/step - loss: 1.8826e-04 - mae: 0.0092 - val_loss: 2.1656e-04 - val_mae: 0.0111\n",
            "Epoch 70/80\n",
            "30/30 [==============================] - 1s 24ms/step - loss: 1.8880e-04 - mae: 0.0092 - val_loss: 2.0701e-04 - val_mae: 0.0107\n",
            "Epoch 71/80\n",
            "30/30 [==============================] - 1s 25ms/step - loss: 1.8044e-04 - mae: 0.0090 - val_loss: 2.8587e-04 - val_mae: 0.0135\n",
            "Epoch 72/80\n",
            "30/30 [==============================] - 1s 30ms/step - loss: 1.8153e-04 - mae: 0.0090 - val_loss: 2.6402e-04 - val_mae: 0.0128\n",
            "Epoch 73/80\n",
            "30/30 [==============================] - 1s 25ms/step - loss: 1.9669e-04 - mae: 0.0094 - val_loss: 4.2985e-04 - val_mae: 0.0172\n",
            "Epoch 74/80\n",
            "30/30 [==============================] - 1s 24ms/step - loss: 1.9301e-04 - mae: 0.0093 - val_loss: 2.3960e-04 - val_mae: 0.0120\n",
            "Epoch 75/80\n",
            "30/30 [==============================] - 1s 26ms/step - loss: 1.8142e-04 - mae: 0.0090 - val_loss: 2.1618e-04 - val_mae: 0.0111\n",
            "Epoch 76/80\n",
            "30/30 [==============================] - 1s 24ms/step - loss: 1.9562e-04 - mae: 0.0094 - val_loss: 3.2393e-04 - val_mae: 0.0146\n",
            "Epoch 77/80\n",
            "30/30 [==============================] - 1s 23ms/step - loss: 1.9054e-04 - mae: 0.0091 - val_loss: 2.3918e-04 - val_mae: 0.0120\n",
            "Epoch 78/80\n",
            "30/30 [==============================] - 1s 24ms/step - loss: 1.7898e-04 - mae: 0.0089 - val_loss: 2.8994e-04 - val_mae: 0.0136\n",
            "Epoch 79/80\n",
            "30/30 [==============================] - 1s 28ms/step - loss: 1.7907e-04 - mae: 0.0090 - val_loss: 2.8881e-04 - val_mae: 0.0136\n",
            "Epoch 80/80\n",
            "30/30 [==============================] - 1s 24ms/step - loss: 1.8545e-04 - mae: 0.0091 - val_loss: 2.6060e-04 - val_mae: 0.0127\n"
          ]
        },
        {
          "data": {
            "text/plain": [
              "<keras.callbacks.History at 0x2680b0a8f70>"
            ]
          },
          "execution_count": 23,
          "metadata": {},
          "output_type": "execute_result"
        }
      ],
      "source": [
        "model.fit(\n",
        "    trainX,\n",
        "    trainY,\n",
        "    batch_size=128,\n",
        "    epochs=80, # Changed nb_epoch to epochs\n",
        "    validation_split=0.05)"
      ]
    },
    {
      "cell_type": "markdown",
      "metadata": {
        "id": "PQazcuL1c9QZ"
      },
      "source": [
        "**is it overtrained? lets run again with 40 epochs**"
      ]
    },
    {
      "cell_type": "code",
      "execution_count": 24,
      "metadata": {
        "colab": {
          "base_uri": "https://localhost:8080/"
        },
        "id": "FvK2f7nXW3rH",
        "outputId": "4d5c1f4f-f85a-4d56-bd21-2e01f0906e3e"
      },
      "outputs": [
        {
          "name": "stdout",
          "output_type": "stream",
          "text": [
            "Epoch 1/40\n",
            "30/30 [==============================] - 1s 33ms/step - loss: 1.9500e-04 - mae: 0.0094 - val_loss: 2.2965e-04 - val_mae: 0.0116\n",
            "Epoch 2/40\n",
            "30/30 [==============================] - 1s 30ms/step - loss: 1.8591e-04 - mae: 0.0092 - val_loss: 3.0099e-04 - val_mae: 0.0139\n",
            "Epoch 3/40\n",
            "30/30 [==============================] - 1s 29ms/step - loss: 1.9320e-04 - mae: 0.0092 - val_loss: 4.7223e-04 - val_mae: 0.0183\n",
            "Epoch 4/40\n",
            "30/30 [==============================] - 1s 28ms/step - loss: 1.8629e-04 - mae: 0.0092 - val_loss: 2.1244e-04 - val_mae: 0.0109\n",
            "Epoch 5/40\n",
            "30/30 [==============================] - 1s 30ms/step - loss: 1.9040e-04 - mae: 0.0093 - val_loss: 2.1247e-04 - val_mae: 0.0109\n",
            "Epoch 6/40\n",
            "30/30 [==============================] - 1s 28ms/step - loss: 1.7379e-04 - mae: 0.0088 - val_loss: 2.3754e-04 - val_mae: 0.0119\n",
            "Epoch 7/40\n",
            "30/30 [==============================] - 1s 28ms/step - loss: 1.9249e-04 - mae: 0.0094 - val_loss: 3.2598e-04 - val_mae: 0.0146\n",
            "Epoch 8/40\n",
            "30/30 [==============================] - 1s 24ms/step - loss: 1.8147e-04 - mae: 0.0088 - val_loss: 4.0210e-04 - val_mae: 0.0166\n",
            "Epoch 9/40\n",
            "30/30 [==============================] - 1s 24ms/step - loss: 1.8505e-04 - mae: 0.0092 - val_loss: 2.0557e-04 - val_mae: 0.0106\n",
            "Epoch 10/40\n",
            "30/30 [==============================] - 1s 26ms/step - loss: 1.9432e-04 - mae: 0.0093 - val_loss: 2.6410e-04 - val_mae: 0.0128\n",
            "Epoch 11/40\n",
            "30/30 [==============================] - 1s 41ms/step - loss: 1.7767e-04 - mae: 0.0090 - val_loss: 2.0802e-04 - val_mae: 0.0108\n",
            "Epoch 12/40\n",
            "30/30 [==============================] - 1s 34ms/step - loss: 1.8568e-04 - mae: 0.0094 - val_loss: 3.0417e-04 - val_mae: 0.0140\n",
            "Epoch 13/40\n",
            "30/30 [==============================] - 1s 27ms/step - loss: 1.7756e-04 - mae: 0.0089 - val_loss: 2.2302e-04 - val_mae: 0.0113\n",
            "Epoch 14/40\n",
            "30/30 [==============================] - 1s 28ms/step - loss: 1.7866e-04 - mae: 0.0089 - val_loss: 2.7112e-04 - val_mae: 0.0130\n",
            "Epoch 15/40\n",
            "30/30 [==============================] - 1s 31ms/step - loss: 1.8220e-04 - mae: 0.0091 - val_loss: 2.2848e-04 - val_mae: 0.0116\n",
            "Epoch 16/40\n",
            "30/30 [==============================] - 1s 29ms/step - loss: 1.8575e-04 - mae: 0.0091 - val_loss: 2.0466e-04 - val_mae: 0.0106\n",
            "Epoch 17/40\n",
            "30/30 [==============================] - 1s 24ms/step - loss: 1.8635e-04 - mae: 0.0091 - val_loss: 2.1406e-04 - val_mae: 0.0110\n",
            "Epoch 18/40\n",
            "30/30 [==============================] - 1s 29ms/step - loss: 1.8313e-04 - mae: 0.0091 - val_loss: 2.0415e-04 - val_mae: 0.0106\n",
            "Epoch 19/40\n",
            "30/30 [==============================] - 1s 30ms/step - loss: 1.7598e-04 - mae: 0.0089 - val_loss: 2.0574e-04 - val_mae: 0.0107\n",
            "Epoch 20/40\n",
            "30/30 [==============================] - 1s 32ms/step - loss: 1.8230e-04 - mae: 0.0090 - val_loss: 2.2473e-04 - val_mae: 0.0114\n",
            "Epoch 21/40\n",
            "30/30 [==============================] - 1s 30ms/step - loss: 1.8782e-04 - mae: 0.0092 - val_loss: 2.3835e-04 - val_mae: 0.0119\n",
            "Epoch 22/40\n",
            "30/30 [==============================] - 1s 28ms/step - loss: 1.8331e-04 - mae: 0.0090 - val_loss: 2.5314e-04 - val_mae: 0.0124\n",
            "Epoch 23/40\n",
            "30/30 [==============================] - 1s 28ms/step - loss: 1.9517e-04 - mae: 0.0093 - val_loss: 2.0792e-04 - val_mae: 0.0107\n",
            "Epoch 24/40\n",
            "30/30 [==============================] - 1s 27ms/step - loss: 1.6784e-04 - mae: 0.0088 - val_loss: 2.8002e-04 - val_mae: 0.0133\n",
            "Epoch 25/40\n",
            "30/30 [==============================] - 1s 33ms/step - loss: 1.7958e-04 - mae: 0.0091 - val_loss: 2.0478e-04 - val_mae: 0.0106\n",
            "Epoch 26/40\n",
            "30/30 [==============================] - 1s 31ms/step - loss: 1.7495e-04 - mae: 0.0090 - val_loss: 2.8810e-04 - val_mae: 0.0135\n",
            "Epoch 27/40\n",
            "30/30 [==============================] - 1s 34ms/step - loss: 1.7526e-04 - mae: 0.0089 - val_loss: 4.0004e-04 - val_mae: 0.0165\n",
            "Epoch 28/40\n",
            "30/30 [==============================] - 1s 33ms/step - loss: 1.6792e-04 - mae: 0.0087 - val_loss: 2.9407e-04 - val_mae: 0.0137\n",
            "Epoch 29/40\n",
            "30/30 [==============================] - 1s 31ms/step - loss: 1.7160e-04 - mae: 0.0088 - val_loss: 3.2406e-04 - val_mae: 0.0146\n",
            "Epoch 30/40\n",
            "30/30 [==============================] - 1s 40ms/step - loss: 1.7015e-04 - mae: 0.0088 - val_loss: 2.1384e-04 - val_mae: 0.0110\n",
            "Epoch 31/40\n",
            "30/30 [==============================] - 1s 31ms/step - loss: 1.9098e-04 - mae: 0.0092 - val_loss: 2.0506e-04 - val_mae: 0.0106\n",
            "Epoch 32/40\n",
            "30/30 [==============================] - 1s 40ms/step - loss: 1.8006e-04 - mae: 0.0090 - val_loss: 4.1197e-04 - val_mae: 0.0168\n",
            "Epoch 33/40\n",
            "30/30 [==============================] - 1s 33ms/step - loss: 1.8747e-04 - mae: 0.0091 - val_loss: 4.8593e-04 - val_mae: 0.0186\n",
            "Epoch 34/40\n",
            "30/30 [==============================] - 1s 35ms/step - loss: 1.9073e-04 - mae: 0.0092 - val_loss: 3.3752e-04 - val_mae: 0.0149\n",
            "Epoch 35/40\n",
            "30/30 [==============================] - 1s 32ms/step - loss: 1.9845e-04 - mae: 0.0092 - val_loss: 2.2908e-04 - val_mae: 0.0116\n",
            "Epoch 36/40\n",
            "30/30 [==============================] - 1s 30ms/step - loss: 1.8010e-04 - mae: 0.0091 - val_loss: 2.5260e-04 - val_mae: 0.0124\n",
            "Epoch 37/40\n",
            "30/30 [==============================] - 1s 34ms/step - loss: 1.8422e-04 - mae: 0.0092 - val_loss: 2.6753e-04 - val_mae: 0.0129\n",
            "Epoch 38/40\n",
            "30/30 [==============================] - 1s 32ms/step - loss: 1.7143e-04 - mae: 0.0088 - val_loss: 2.0531e-04 - val_mae: 0.0106\n",
            "Epoch 39/40\n",
            "30/30 [==============================] - 1s 34ms/step - loss: 1.7964e-04 - mae: 0.0089 - val_loss: 2.3266e-04 - val_mae: 0.0117\n",
            "Epoch 40/40\n",
            "30/30 [==============================] - 1s 33ms/step - loss: 1.8212e-04 - mae: 0.0090 - val_loss: 2.4055e-04 - val_mae: 0.0120\n"
          ]
        },
        {
          "data": {
            "text/plain": [
              "<keras.callbacks.History at 0x2680b89bfd0>"
            ]
          },
          "execution_count": 24,
          "metadata": {},
          "output_type": "execute_result"
        }
      ],
      "source": [
        "model.fit(\n",
        "    trainX,\n",
        "    trainY,\n",
        "    batch_size=128,\n",
        "    epochs=40,\n",
        "    validation_split=0.05)"
      ]
    },
    {
      "cell_type": "markdown",
      "metadata": {
        "id": "PNNUkkpIdCfK"
      },
      "source": [
        "**Final Predictions**"
      ]
    },
    {
      "cell_type": "code",
      "execution_count": 25,
      "metadata": {
        "colab": {
          "base_uri": "https://localhost:8080/",
          "height": 466
        },
        "id": "27AkkDUDXLkP",
        "outputId": "27e230bc-aa2a-4852-b41b-68210955bf5a"
      },
      "outputs": [
        {
          "name": "stdout",
          "output_type": "stream",
          "text": [
            "32/32 [==============================] - 3s 7ms/step\n"
          ]
        },
        {
          "data": {
            "image/png": "[encoded data removed]",
            "text/plain": [
              "<Figure size 640x480 with 1 Axes>"
            ]
          },
          "metadata": {},
          "output_type": "display_data"
        }
      ],
      "source": [
        "import matplotlib.pyplot as plt\n",
        "predicted_stateful = model.predict(testX)\n",
        "plt.plot(testY, color = 'red',label = 'Actual Closing Prices')\n",
        "plt.plot(predicted_stateful.flatten(), color = 'blue', label  = 'Predicted closing Prices')\n",
        "plt.xlabel('Days')\n",
        "plt.ylabel('Normalised Prices')\n",
        "plt.legend(loc='best')\n",
        "plt.show()"
      ]
    },
    {
      "cell_type": "markdown",
      "metadata": {
        "id": "nc-mIZspkToH"
      },
      "source": [
        "**So LSTM  works great to predict Closing Prices when we normalize the prices and predict the stock Price movement.**"
      ]
    },
    {
      "cell_type": "code",
      "execution_count": 26,
      "metadata": {
        "colab": {
          "base_uri": "https://localhost:8080/"
        },
        "id": "6Im_DUAVIr3K",
        "outputId": "cdd9d4d9-f2bd-46c1-ff01-89994245bc03"
      },
      "outputs": [
        {
          "name": "stdout",
          "output_type": "stream",
          "text": [
            "32/32 [==============================] - 0s 11ms/step - loss: 3.0596e-05 - mae: 0.0041\n"
          ]
        }
      ],
      "source": [
        "mae = model.evaluate(trainX,\n",
        "    trainY,\n",
        "    batch_size=128,verbose=1)"
      ]
    }
  ],
  "metadata": {
    "accelerator": "GPU",
    "colab": {
      "provenance": []
    },
    "kernelspec": {
      "display_name": "Python 3",
      "name": "python3"
    },
    "language_info": {
      "codemirror_mode": {
        "name": "ipython",
        "version": 3
      },
      "file_extension": ".py",
      "mimetype": "text/x-python",
      "name": "python",
      "nbconvert_exporter": "python",
      "pygments_lexer": "ipython3",
      "version": "3.10.11"
    }
  },
  "nbformat": 4,
  "nbformat_minor": 0
}

{
  "cells": [
    {
      "cell_type": "code",
      "execution_count": null,
      "metadata": {},
      "outputs": [],
      "source": [
        "# ===============================\n",
        "# Parameters (to be injected by backend)\n",
        "# ===============================\n",
        "\n",
        "try:\n",
        "    company_name\n",
        "except NameError:\n",
        "    company_name = \"AMZN\"   # default fallback\n",
        "\n",
        "try:\n",
        "    start_date\n",
        "except NameError:\n",
        "    start_date = \"2005-01-01\"   # default fallback\n",
        "\n",
        "try:\n",
        "    end_date\n",
        "except NameError:\n",
        "    end_date = \"2025-01-01\"     # default fallback\n",
        "\n",
        "print(\"📌 Running for:\", company_name, start_date, end_date)\n"
      ]
    },
    {
      "cell_type": "code",
      "execution_count": 1,
      "metadata": {
        "id": "2zUjhYQHfTmA"
      },
      "outputs": [],
      "source": [
        "# %pip install keras\n",
        "from keras.models import Sequential\n",
        "from keras.layers import Dense, Dropout, Activation, LSTM\n",
        "import time\n"
      ]
    },
    {
      "cell_type": "markdown",
      "metadata": {
        "id": "UJ0jimOSaLx0"
      },
      "source": [
        "**WHY USE LSTM? Is it good to predict re-occuring data?I didn't get great results from the 1st notebook and decided to try to predict stock price movements by giving in stock price movements instead of just simple stock prices as input**\n",
        "\n",
        "\n",
        "**In this notebook I normalized only the closing prices and then broke it into train and test datasets. I just kept a simple lookback window to give all similar data same movement(movement is just giving the data points the same kind of normalization) and put them in price points as input**\n",
        "\n"
      ]
    },
    {
      "cell_type": "code",
      "execution_count": 2,
      "metadata": {
        "colab": {
          "base_uri": "https://localhost:8080/"
        },
        "id": "Uwk3PeSUGDk3",
        "outputId": "449213bc-0570-4c01-e0ad-ad687a67a63c"
      },
      "outputs": [],
      "source": [
        "# # Code to read csv file into Colaboratory:\n",
        "# !pip install -U -q PyDrive\n",
        "# from pydrive.auth import GoogleAuth\n",
        "# from pydrive.drive import GoogleDrive\n",
        "# from google.colab import auth\n",
        "# from oauth2client.client import GoogleCredentials\n",
        "# # Authenticate and create the PyDrive client.\n",
        "# auth.authenticate_user()\n",
        "# gauth = GoogleAuth()\n",
        "# gauth.credentials = GoogleCredentials.get_application_default()\n",
        "# drive = GoogleDrive(gauth)"
      ]
    },
    {
      "cell_type": "code",
      "execution_count": 3,
      "metadata": {
        "id": "ctysdd5cJzV4"
      },
      "outputs": [],
      "source": [
        "# link = 'https://drive.google.com/file/d/1kF8vlqjNrqoeUavSQr3mkd8KNVkmfigK/view?usp=sharing'"
      ]
    },
    {
      "cell_type": "code",
      "execution_count": 4,
      "metadata": {
        "colab": {
          "base_uri": "https://localhost:8080/"
        },
        "id": "_RCOZpTdND1z",
        "outputId": "d92b5311-f02d-4912-e536-89f7d4dd3460"
      },
      "outputs": [],
      "source": [
        "# fluff, id = link.split('=')\n",
        "# print (id) # Verify that you have everything after '='"
      ]
    },
    {
      "cell_type": "code",
      "execution_count": null,
      "metadata": {
        "colab": {
          "base_uri": "https://localhost:8080/"
        },
        "id": "hyxINN1tNEqW",
        "outputId": "ed3ccdd0-cbbf-4541-ed7b-f7441209d39c"
      },
      "outputs": [],
      "source": [
        "import pandas as pd\n",
        "# !pip install gdown -q\n",
        "# !gdown --id 1ot1gEfwovdcqV7BszQf9gpRkTTjs1fEh\n",
        "# # downloaded = drive.CreateFile({'id':id})\n",
        "# # downloaded.GetContentFile('AMZN.csv')\n",
        "# # Dataset is now stored in a Pandas Dataframe\n",
        "df3 = pd.read_csv(f'{company_name}_{start_date}_{end_date}.csv')\n",
        "# Dataset is now stored in a Pandas Dataframe"
      ]
    },
    {
      "cell_type": "code",
      "execution_count": 6,
      "metadata": {
        "id": "TKqVdqkHNPEq"
      },
      "outputs": [],
      "source": [
        "#VANILLA LSTM NETWORK CREATED:"
      ]
    },
    {
      "cell_type": "code",
      "execution_count": 7,
      "metadata": {
        "id": "biH6rwhyOAAm"
      },
      "outputs": [],
      "source": [
        "# %pip install keras\n",
        "from keras.models import Sequential\n",
        "from keras.layers import Dense, Dropout, Activation, LSTM\n",
        "# import time\n",
        "import time #helper libraries"
      ]
    },
    {
      "cell_type": "code",
      "execution_count": 8,
      "metadata": {
        "id": "OtRzd9-IOB8L"
      },
      "outputs": [],
      "source": [
        "df3 = df3.dropna(axis = \"columns\")"
      ]
    },
    {
      "cell_type": "code",
      "execution_count": 9,
      "metadata": {
        "colab": {
          "base_uri": "https://localhost:8080/",
          "height": 206
        },
        "id": "77Me2RVdPMy6",
        "outputId": "ab99480f-08e9-4989-fb75-e8f3ac7a0bcd"
      },
      "outputs": [
        {
          "data": {
            "text/html": [
              "<div>\n",
              "<style scoped>\n",
              "    .dataframe tbody tr th:only-of-type {\n",
              "        vertical-align: middle;\n",
              "    }\n",
              "\n",
              "    .dataframe tbody tr th {\n",
              "        vertical-align: top;\n",
              "    }\n",
              "\n",
              "    .dataframe thead th {\n",
              "        text-align: right;\n",
              "    }\n",
              "</style>\n",
              "<table border=\"1\" class=\"dataframe\">\n",
              "  <thead>\n",
              "    <tr style=\"text-align: right;\">\n",
              "      <th></th>\n",
              "      <th>Date</th>\n",
              "      <th>Close</th>\n",
              "      <th>High</th>\n",
              "      <th>Low</th>\n",
              "      <th>Open</th>\n",
              "      <th>Volume</th>\n",
              "    </tr>\n",
              "  </thead>\n",
              "  <tbody>\n",
              "    <tr>\n",
              "      <th>0</th>\n",
              "      <td>2005-01-03</td>\n",
              "      <td>2.2260</td>\n",
              "      <td>2.2720</td>\n",
              "      <td>2.2105</td>\n",
              "      <td>2.2475</td>\n",
              "      <td>208930000</td>\n",
              "    </tr>\n",
              "    <tr>\n",
              "      <th>1</th>\n",
              "      <td>2005-01-04</td>\n",
              "      <td>2.1070</td>\n",
              "      <td>2.1630</td>\n",
              "      <td>2.0750</td>\n",
              "      <td>2.1335</td>\n",
              "      <td>388370000</td>\n",
              "    </tr>\n",
              "    <tr>\n",
              "      <th>2</th>\n",
              "      <td>2005-01-05</td>\n",
              "      <td>2.0885</td>\n",
              "      <td>2.1380</td>\n",
              "      <td>2.0780</td>\n",
              "      <td>2.0785</td>\n",
              "      <td>167084000</td>\n",
              "    </tr>\n",
              "    <tr>\n",
              "      <th>3</th>\n",
              "      <td>2005-01-06</td>\n",
              "      <td>2.0525</td>\n",
              "      <td>2.1125</td>\n",
              "      <td>2.0450</td>\n",
              "      <td>2.0905</td>\n",
              "      <td>174018000</td>\n",
              "    </tr>\n",
              "    <tr>\n",
              "      <th>4</th>\n",
              "      <td>2005-01-07</td>\n",
              "      <td>2.1160</td>\n",
              "      <td>2.1345</td>\n",
              "      <td>2.0580</td>\n",
              "      <td>2.0690</td>\n",
              "      <td>196732000</td>\n",
              "    </tr>\n",
              "  </tbody>\n",
              "</table>\n",
              "</div>"
            ],
            "text/plain": [
              "         Date   Close    High     Low    Open     Volume\n",
              "0  2005-01-03  2.2260  2.2720  2.2105  2.2475  208930000\n",
              "1  2005-01-04  2.1070  2.1630  2.0750  2.1335  388370000\n",
              "2  2005-01-05  2.0885  2.1380  2.0780  2.0785  167084000\n",
              "3  2005-01-06  2.0525  2.1125  2.0450  2.0905  174018000\n",
              "4  2005-01-07  2.1160  2.1345  2.0580  2.0690  196732000"
            ]
          },
          "execution_count": 9,
          "metadata": {},
          "output_type": "execute_result"
        }
      ],
      "source": [
        "df3.head()"
      ]
    },
    {
      "cell_type": "code",
      "execution_count": 10,
      "metadata": {
        "id": "1LArM8rQPU6Y"
      },
      "outputs": [],
      "source": [
        "#working with a conventional OHCLV dataset"
      ]
    },
    {
      "cell_type": "code",
      "execution_count": 11,
      "metadata": {
        "id": "AUI-7-jpPgdJ"
      },
      "outputs": [],
      "source": [
        "import numpy as np"
      ]
    },
    {
      "cell_type": "code",
      "execution_count": 12,
      "metadata": {
        "id": "gqkI7vdpQB3d"
      },
      "outputs": [],
      "source": [
        "#FOCUS ON PREDICTING CLOSING PRICES AS BEFORE"
      ]
    },
    {
      "cell_type": "code",
      "execution_count": 13,
      "metadata": {
        "id": "4_eLiOTqSt1p"
      },
      "outputs": [],
      "source": [
        "df_close = df3['Close']"
      ]
    },
    {
      "cell_type": "code",
      "execution_count": 14,
      "metadata": {
        "colab": {
          "base_uri": "https://localhost:8080/"
        },
        "id": "CpmyiqPMS6lv",
        "outputId": "69378dd2-f57f-494e-cd67-d2b929f04ed5"
      },
      "outputs": [
        {
          "data": {
            "text/plain": [
              "(5033,)"
            ]
          },
          "execution_count": 14,
          "metadata": {},
          "output_type": "execute_result"
        }
      ],
      "source": [
        "df_close.shape"
      ]
    },
    {
      "cell_type": "code",
      "execution_count": 15,
      "metadata": {
        "id": "cFX_SbARTFbK"
      },
      "outputs": [],
      "source": [
        "#Reshaping it\n",
        "# df_close = df_close.values.reshape(2629,1)"
      ]
    },
    {
      "cell_type": "code",
      "execution_count": null,
      "metadata": {
        "colab": {
          "base_uri": "https://localhost:8080/",
          "height": 430
        },
        "id": "-kd1EeAMTShd",
        "outputId": "507cbc46-5409-4436-f96d-cc7aa0767a80"
      },
      "outputs": [
        {
          "data": {
            "image/png": "[encoded data removed]",
            "text/plain": [
              "<Figure size 640x480 with 1 Axes>"
            ]
          },
          "metadata": {},
          "output_type": "display_data"
        }
      ],
      "source": [
        "from sklearn.preprocessing import MinMaxScaler\n",
        "\n",
        "import matplotlib.pyplot as plt\n",
        "\n",
        "import joblib\n",
        "\n",
        "plt.plot(df_close)\n",
        "plt.show()\n",
        "\n",
        "scaler = MinMaxScaler(feature_range=(0, 1))\n",
        "df_close = scaler.fit_transform(df_close.values.reshape(-1, 1))\n",
        "\n",
        "joblib.dump(scaler, \"scaler.pkl\")"
      ]
    },
    {
      "cell_type": "code",
      "execution_count": 18,
      "metadata": {
        "colab": {
          "base_uri": "https://localhost:8080/"
        },
        "id": "Qwu51GYWUIul",
        "outputId": "8312b269-3334-44da-a655-6ceccd8f0aaf"
      },
      "outputs": [
        {
          "name": "stdout",
          "output_type": "stream",
          "text": [
            "4026 1007\n"
          ]
        }
      ],
      "source": [
        "train_size = int(len(df_close) * 0.80)\n",
        "test_size = len(df_close) - train_size\n",
        "train, test = df_close[0:train_size,:], df_close[train_size:len(df_close),:]\n",
        "print(len(train), len(test))"
      ]
    },
    {
      "cell_type": "markdown",
      "metadata": {
        "id": "Gyaecf7d87tN"
      },
      "source": [
        "**Normalize the values such that prices are reduced to normalized values and I can predict stock movement instead of actual prices**"
      ]
    },
    {
      "cell_type": "code",
      "execution_count": 19,
      "metadata": {
        "id": "Ria-4F-4V_Xn"
      },
      "outputs": [],
      "source": [
        "# convert an array of values into a dataset matrix\n",
        "def create_dataset(dataset, look_back=1): #keep only similar value data if a data point is too far of the last one jump to the next value\n",
        "\tdataX, dataY = [], []       #put this in data x\n",
        "\tfor i in range(len(dataset)-look_back-1): #let dataY have only output values\n",
        "\t\ta = dataset[i:(i+look_back), 0]\n",
        "\t\tdataX.append(a)\n",
        "\t\tdataY.append(dataset[i + look_back, 0])\n",
        "\treturn np.array(dataX), np.array(dataY)"
      ]
    },
    {
      "cell_type": "code",
      "execution_count": null,
      "metadata": {
        "id": "atRqDg15WGbV"
      },
      "outputs": [],
      "source": [
        "# reshape into X=t and Y=t+1\n",
        "look_back = 1\n",
        "trainX, trainY = create_dataset(train, look_back)\n",
        "testX, testY = create_dataset(test, look_back)"
      ]
    },
    {
      "cell_type": "code",
      "execution_count": 21,
      "metadata": {
        "id": "PVeSyYXXWNlT"
      },
      "outputs": [],
      "source": [
        "trainX = np.reshape(trainX, (trainX.shape[0], look_back, trainX.shape[1]))\n",
        "testX = np.reshape(testX, (testX.shape[0], look_back, testX.shape[1]))"
      ]
    },
    {
      "cell_type": "code",
      "execution_count": 22,
      "metadata": {
        "colab": {
          "base_uri": "https://localhost:8080/"
        },
        "id": "ci3EQtyrWSgh",
        "outputId": "98a92383-4750-403e-aa93-64066ecc78bb"
      },
      "outputs": [
        {
          "name": "stdout",
          "output_type": "stream",
          "text": [
            "compilation time :  0.01649165153503418\n"
          ]
        }
      ],
      "source": [
        "#Step 2 Build Model\n",
        "model = Sequential()\n",
        "\n",
        "model.add(LSTM(\n",
        "    units=50,\n",
        "    input_shape=(look_back, 1), # Changed input_dim to input_shape\n",
        "    return_sequences=True))\n",
        "model.add(Dropout(0.2))\n",
        "\n",
        "model.add(LSTM(\n",
        "    units=100,\n",
        "    return_sequences=False))\n",
        "model.add(Dropout(0.2))\n",
        "\n",
        "model.add(Dense(\n",
        "    units=1))\n",
        "model.add(Activation('relu'))\n",
        "\n",
        "start = time.time()\n",
        "model.compile(loss='mse', optimizer='rmsprop', metrics=['mae'])\n",
        "print ('compilation time : ', time.time() - start)"
      ]
    },
    {
      "cell_type": "code",
      "execution_count": 23,
      "metadata": {
        "colab": {
          "base_uri": "https://localhost:8080/"
        },
        "id": "tzikjpoYWXKw",
        "outputId": "0a70fa85-7b25-4079-978e-98ccb5bf59ef"
      },
      "outputs": [
        {
          "name": "stdout",
          "output_type": "stream",
          "text": [
            "Epoch 1/80\n",
            "30/30 [==============================] - 4s 31ms/step - loss: 0.0166 - mae: 0.0905 - val_loss: 0.2549 - val_mae: 0.4954\n",
            "Epoch 2/80\n",
            "30/30 [==============================] - 0s 8ms/step - loss: 0.0144 - mae: 0.0950 - val_loss: 0.2438 - val_mae: 0.4846\n",
            "Epoch 3/80\n",
            "30/30 [==============================] - 0s 7ms/step - loss: 0.0135 - mae: 0.0912 - val_loss: 0.2111 - val_mae: 0.4505\n",
            "Epoch 4/80\n",
            "30/30 [==============================] - 0s 9ms/step - loss: 0.0120 - mae: 0.0871 - val_loss: 0.1916 - val_mae: 0.4295\n",
            "Epoch 5/80\n",
            "30/30 [==============================] - 0s 8ms/step - loss: 0.0101 - mae: 0.0794 - val_loss: 0.1566 - val_mae: 0.3884\n",
            "Epoch 6/80\n",
            "30/30 [==============================] - 0s 9ms/step - loss: 0.0077 - mae: 0.0694 - val_loss: 0.1161 - val_mae: 0.3348\n",
            "Epoch 7/80\n",
            "30/30 [==============================] - 0s 10ms/step - loss: 0.0049 - mae: 0.0544 - val_loss: 0.0608 - val_mae: 0.2418\n",
            "Epoch 8/80\n",
            "30/30 [==============================] - 0s 7ms/step - loss: 0.0024 - mae: 0.0377 - val_loss: 0.0225 - val_mae: 0.1467\n",
            "Epoch 9/80\n",
            "30/30 [==============================] - 0s 6ms/step - loss: 9.6971e-04 - mae: 0.0219 - val_loss: 0.0059 - val_mae: 0.0743\n",
            "Epoch 10/80\n",
            "30/30 [==============================] - 0s 6ms/step - loss: 3.7832e-04 - mae: 0.0123 - val_loss: 0.0013 - val_mae: 0.0337\n",
            "Epoch 11/80\n",
            "30/30 [==============================] - 0s 6ms/step - loss: 2.8273e-04 - mae: 0.0100 - val_loss: 4.7157e-04 - val_mae: 0.0181\n",
            "Epoch 12/80\n",
            "30/30 [==============================] - 0s 6ms/step - loss: 2.6904e-04 - mae: 0.0097 - val_loss: 3.8412e-04 - val_mae: 0.0160\n",
            "Epoch 13/80\n",
            "30/30 [==============================] - 0s 8ms/step - loss: 2.8338e-04 - mae: 0.0100 - val_loss: 3.5008e-04 - val_mae: 0.0151\n",
            "Epoch 14/80\n",
            "30/30 [==============================] - 0s 8ms/step - loss: 2.7344e-04 - mae: 0.0097 - val_loss: 4.7404e-04 - val_mae: 0.0183\n",
            "Epoch 15/80\n",
            "30/30 [==============================] - 0s 8ms/step - loss: 2.5386e-04 - mae: 0.0097 - val_loss: 2.1643e-04 - val_mae: 0.0111\n",
            "Epoch 16/80\n",
            "30/30 [==============================] - 0s 9ms/step - loss: 2.4942e-04 - mae: 0.0095 - val_loss: 3.4260e-04 - val_mae: 0.0150\n",
            "Epoch 17/80\n",
            "30/30 [==============================] - 0s 9ms/step - loss: 2.4709e-04 - mae: 0.0098 - val_loss: 4.2187e-04 - val_mae: 0.0170\n",
            "Epoch 18/80\n",
            "30/30 [==============================] - 0s 8ms/step - loss: 2.3173e-04 - mae: 0.0096 - val_loss: 3.9358e-04 - val_mae: 0.0163\n",
            "Epoch 19/80\n",
            "30/30 [==============================] - 0s 7ms/step - loss: 2.3434e-04 - mae: 0.0095 - val_loss: 5.7329e-04 - val_mae: 0.0205\n",
            "Epoch 20/80\n",
            "30/30 [==============================] - 0s 7ms/step - loss: 2.3573e-04 - mae: 0.0096 - val_loss: 5.4547e-04 - val_mae: 0.0199\n",
            "Epoch 21/80\n",
            "30/30 [==============================] - 0s 7ms/step - loss: 2.3862e-04 - mae: 0.0096 - val_loss: 2.9502e-04 - val_mae: 0.0137\n",
            "Epoch 22/80\n",
            "30/30 [==============================] - 0s 6ms/step - loss: 2.3660e-04 - mae: 0.0097 - val_loss: 2.0384e-04 - val_mae: 0.0105\n",
            "Epoch 23/80\n",
            "30/30 [==============================] - 0s 7ms/step - loss: 2.4251e-04 - mae: 0.0097 - val_loss: 3.0222e-04 - val_mae: 0.0139\n",
            "Epoch 24/80\n",
            "30/30 [==============================] - 0s 7ms/step - loss: 2.2870e-04 - mae: 0.0097 - val_loss: 3.8787e-04 - val_mae: 0.0162\n",
            "Epoch 25/80\n",
            "30/30 [==============================] - 0s 6ms/step - loss: 2.2659e-04 - mae: 0.0097 - val_loss: 3.8482e-04 - val_mae: 0.0161\n",
            "Epoch 26/80\n",
            "30/30 [==============================] - 0s 12ms/step - loss: 2.2244e-04 - mae: 0.0097 - val_loss: 3.3027e-04 - val_mae: 0.0147\n",
            "Epoch 27/80\n",
            "30/30 [==============================] - 0s 16ms/step - loss: 2.1565e-04 - mae: 0.0097 - val_loss: 2.0633e-04 - val_mae: 0.0106\n",
            "Epoch 28/80\n",
            "30/30 [==============================] - 0s 14ms/step - loss: 2.1532e-04 - mae: 0.0096 - val_loss: 2.2248e-04 - val_mae: 0.0113\n",
            "Epoch 29/80\n",
            "30/30 [==============================] - 0s 7ms/step - loss: 2.3785e-04 - mae: 0.0100 - val_loss: 3.0006e-04 - val_mae: 0.0138\n",
            "Epoch 30/80\n",
            "30/30 [==============================] - 0s 7ms/step - loss: 2.3976e-04 - mae: 0.0101 - val_loss: 2.0388e-04 - val_mae: 0.0105\n",
            "Epoch 31/80\n",
            "30/30 [==============================] - 0s 6ms/step - loss: 2.1974e-04 - mae: 0.0095 - val_loss: 3.8831e-04 - val_mae: 0.0162\n",
            "Epoch 32/80\n",
            "30/30 [==============================] - 0s 6ms/step - loss: 2.2386e-04 - mae: 0.0098 - val_loss: 2.0387e-04 - val_mae: 0.0105\n",
            "Epoch 33/80\n",
            "30/30 [==============================] - 0s 9ms/step - loss: 2.2880e-04 - mae: 0.0098 - val_loss: 2.2819e-04 - val_mae: 0.0116\n",
            "Epoch 34/80\n",
            "30/30 [==============================] - 0s 14ms/step - loss: 2.2556e-04 - mae: 0.0099 - val_loss: 3.1307e-04 - val_mae: 0.0142\n",
            "Epoch 35/80\n",
            "30/30 [==============================] - 0s 13ms/step - loss: 2.1523e-04 - mae: 0.0097 - val_loss: 2.0388e-04 - val_mae: 0.0105\n",
            "Epoch 36/80\n",
            "30/30 [==============================] - 0s 10ms/step - loss: 2.3735e-04 - mae: 0.0100 - val_loss: 2.2187e-04 - val_mae: 0.0113\n",
            "Epoch 37/80\n",
            "30/30 [==============================] - 0s 8ms/step - loss: 2.1750e-04 - mae: 0.0095 - val_loss: 2.9946e-04 - val_mae: 0.0139\n",
            "Epoch 38/80\n",
            "30/30 [==============================] - 0s 7ms/step - loss: 2.0958e-04 - mae: 0.0096 - val_loss: 2.2106e-04 - val_mae: 0.0113\n",
            "Epoch 39/80\n",
            "30/30 [==============================] - 0s 7ms/step - loss: 2.0976e-04 - mae: 0.0095 - val_loss: 3.1295e-04 - val_mae: 0.0142\n",
            "Epoch 40/80\n",
            "30/30 [==============================] - 0s 8ms/step - loss: 2.1380e-04 - mae: 0.0097 - val_loss: 2.2251e-04 - val_mae: 0.0113\n",
            "Epoch 41/80\n",
            "30/30 [==============================] - 0s 14ms/step - loss: 2.0635e-04 - mae: 0.0095 - val_loss: 3.5348e-04 - val_mae: 0.0153\n",
            "Epoch 42/80\n",
            "30/30 [==============================] - 0s 15ms/step - loss: 2.2039e-04 - mae: 0.0098 - val_loss: 2.7143e-04 - val_mae: 0.0130\n",
            "Epoch 43/80\n",
            "30/30 [==============================] - 0s 10ms/step - loss: 2.2084e-04 - mae: 0.0098 - val_loss: 2.1515e-04 - val_mae: 0.0111\n",
            "Epoch 44/80\n",
            "30/30 [==============================] - 0s 8ms/step - loss: 2.0370e-04 - mae: 0.0094 - val_loss: 2.9204e-04 - val_mae: 0.0137\n",
            "Epoch 45/80\n",
            "30/30 [==============================] - 0s 6ms/step - loss: 2.1351e-04 - mae: 0.0098 - val_loss: 2.0769e-04 - val_mae: 0.0108\n",
            "Epoch 46/80\n",
            "30/30 [==============================] - 0s 7ms/step - loss: 1.8833e-04 - mae: 0.0091 - val_loss: 2.2172e-04 - val_mae: 0.0113\n",
            "Epoch 47/80\n",
            "30/30 [==============================] - 0s 6ms/step - loss: 2.1558e-04 - mae: 0.0097 - val_loss: 2.6260e-04 - val_mae: 0.0127\n",
            "Epoch 48/80\n",
            "30/30 [==============================] - 0s 12ms/step - loss: 2.0286e-04 - mae: 0.0094 - val_loss: 4.1980e-04 - val_mae: 0.0170\n",
            "Epoch 49/80\n",
            "30/30 [==============================] - 0s 14ms/step - loss: 2.1969e-04 - mae: 0.0098 - val_loss: 3.3777e-04 - val_mae: 0.0149\n",
            "Epoch 50/80\n",
            "30/30 [==============================] - 0s 13ms/step - loss: 2.0485e-04 - mae: 0.0093 - val_loss: 2.7483e-04 - val_mae: 0.0131\n",
            "Epoch 51/80\n",
            "30/30 [==============================] - 0s 8ms/step - loss: 2.1905e-04 - mae: 0.0098 - val_loss: 4.0695e-04 - val_mae: 0.0167\n",
            "Epoch 52/80\n",
            "30/30 [==============================] - 0s 7ms/step - loss: 2.1896e-04 - mae: 0.0097 - val_loss: 2.0429e-04 - val_mae: 0.0106\n",
            "Epoch 53/80\n",
            "30/30 [==============================] - 0s 7ms/step - loss: 1.9139e-04 - mae: 0.0092 - val_loss: 4.1087e-04 - val_mae: 0.0168\n",
            "Epoch 54/80\n",
            "30/30 [==============================] - 0s 7ms/step - loss: 2.1402e-04 - mae: 0.0097 - val_loss: 3.9672e-04 - val_mae: 0.0164\n",
            "Epoch 55/80\n",
            "30/30 [==============================] - 0s 11ms/step - loss: 1.9030e-04 - mae: 0.0094 - val_loss: 2.1222e-04 - val_mae: 0.0110\n",
            "Epoch 56/80\n",
            "30/30 [==============================] - 0s 14ms/step - loss: 2.1050e-04 - mae: 0.0097 - val_loss: 2.1824e-04 - val_mae: 0.0112\n",
            "Epoch 57/80\n",
            "30/30 [==============================] - 0s 14ms/step - loss: 2.0832e-04 - mae: 0.0096 - val_loss: 2.2734e-04 - val_mae: 0.0115\n",
            "Epoch 58/80\n",
            "30/30 [==============================] - 0s 16ms/step - loss: 2.1404e-04 - mae: 0.0097 - val_loss: 2.4139e-04 - val_mae: 0.0120\n",
            "Epoch 59/80\n",
            "30/30 [==============================] - 0s 15ms/step - loss: 2.0862e-04 - mae: 0.0095 - val_loss: 2.8978e-04 - val_mae: 0.0136\n",
            "Epoch 60/80\n",
            "30/30 [==============================] - 0s 7ms/step - loss: 2.0514e-04 - mae: 0.0097 - val_loss: 4.0769e-04 - val_mae: 0.0167\n",
            "Epoch 61/80\n",
            "30/30 [==============================] - 0s 7ms/step - loss: 1.9059e-04 - mae: 0.0094 - val_loss: 2.2524e-04 - val_mae: 0.0114\n",
            "Epoch 62/80\n",
            "30/30 [==============================] - 0s 7ms/step - loss: 1.9369e-04 - mae: 0.0092 - val_loss: 2.0412e-04 - val_mae: 0.0106\n",
            "Epoch 63/80\n",
            "30/30 [==============================] - 0s 7ms/step - loss: 2.0556e-04 - mae: 0.0095 - val_loss: 2.2095e-04 - val_mae: 0.0113\n",
            "Epoch 64/80\n",
            "30/30 [==============================] - 0s 8ms/step - loss: 2.0394e-04 - mae: 0.0093 - val_loss: 3.6108e-04 - val_mae: 0.0155\n",
            "Epoch 65/80\n",
            "30/30 [==============================] - 0s 14ms/step - loss: 1.9282e-04 - mae: 0.0094 - val_loss: 2.1857e-04 - val_mae: 0.0112\n",
            "Epoch 66/80\n",
            "30/30 [==============================] - 0s 10ms/step - loss: 1.9810e-04 - mae: 0.0094 - val_loss: 3.7485e-04 - val_mae: 0.0159\n",
            "Epoch 67/80\n",
            "30/30 [==============================] - 0s 13ms/step - loss: 1.9762e-04 - mae: 0.0093 - val_loss: 4.3345e-04 - val_mae: 0.0173\n",
            "Epoch 68/80\n",
            "30/30 [==============================] - 0s 15ms/step - loss: 1.9381e-04 - mae: 0.0092 - val_loss: 2.9843e-04 - val_mae: 0.0138\n",
            "Epoch 69/80\n",
            "30/30 [==============================] - 0s 14ms/step - loss: 2.0633e-04 - mae: 0.0096 - val_loss: 2.0596e-04 - val_mae: 0.0106\n",
            "Epoch 70/80\n",
            "30/30 [==============================] - 1s 17ms/step - loss: 1.7902e-04 - mae: 0.0091 - val_loss: 2.4423e-04 - val_mae: 0.0121\n",
            "Epoch 71/80\n",
            "30/30 [==============================] - 0s 15ms/step - loss: 1.9210e-04 - mae: 0.0094 - val_loss: 2.6378e-04 - val_mae: 0.0128\n",
            "Epoch 72/80\n",
            "30/30 [==============================] - 0s 10ms/step - loss: 2.0111e-04 - mae: 0.0094 - val_loss: 2.0767e-04 - val_mae: 0.0108\n",
            "Epoch 73/80\n",
            "30/30 [==============================] - 0s 7ms/step - loss: 1.9207e-04 - mae: 0.0092 - val_loss: 2.0420e-04 - val_mae: 0.0105\n",
            "Epoch 74/80\n",
            "30/30 [==============================] - 0s 6ms/step - loss: 2.2136e-04 - mae: 0.0098 - val_loss: 2.3326e-04 - val_mae: 0.0117\n",
            "Epoch 75/80\n",
            "30/30 [==============================] - 0s 7ms/step - loss: 1.9601e-04 - mae: 0.0094 - val_loss: 3.2228e-04 - val_mae: 0.0145\n",
            "Epoch 76/80\n",
            "30/30 [==============================] - 0s 7ms/step - loss: 1.9423e-04 - mae: 0.0095 - val_loss: 3.1703e-04 - val_mae: 0.0144\n",
            "Epoch 77/80\n",
            "30/30 [==============================] - 0s 7ms/step - loss: 1.9140e-04 - mae: 0.0092 - val_loss: 2.1131e-04 - val_mae: 0.0109\n",
            "Epoch 78/80\n",
            "30/30 [==============================] - 0s 7ms/step - loss: 1.7856e-04 - mae: 0.0090 - val_loss: 2.0405e-04 - val_mae: 0.0106\n",
            "Epoch 79/80\n",
            "30/30 [==============================] - 0s 8ms/step - loss: 1.9942e-04 - mae: 0.0094 - val_loss: 2.0425e-04 - val_mae: 0.0106\n",
            "Epoch 80/80\n",
            "30/30 [==============================] - 0s 7ms/step - loss: 1.9369e-04 - mae: 0.0095 - val_loss: 2.3305e-04 - val_mae: 0.0117\n"
          ]
        },
        {
          "data": {
            "text/plain": [
              "<keras.callbacks.History at 0x1c5eaf765c0>"
            ]
          },
          "execution_count": 23,
          "metadata": {},
          "output_type": "execute_result"
        }
      ],
      "source": [
        "model.fit(\n",
        "    trainX,\n",
        "    trainY,\n",
        "    batch_size=128,\n",
        "    epochs=80, # Changed nb_epoch to epochs\n",
        "    validation_split=0.05)"
      ]
    },
    {
      "cell_type": "markdown",
      "metadata": {
        "id": "PQazcuL1c9QZ"
      },
      "source": [
        "**is it overtrained? lets run again with 40 epochs**"
      ]
    },
    {
      "cell_type": "code",
      "execution_count": null,
      "metadata": {
        "colab": {
          "base_uri": "https://localhost:8080/"
        },
        "id": "FvK2f7nXW3rH",
        "outputId": "4d5c1f4f-f85a-4d56-bd21-2e01f0906e3e"
      },
      "outputs": [
        {
          "name": "stdout",
          "output_type": "stream",
          "text": [
            "Epoch 1/40\n",
            "30/30 [==============================] - 0s 12ms/step - loss: 2.0360e-04 - mae: 0.0095 - val_loss: 3.2407e-04 - val_mae: 0.0146\n",
            "Epoch 2/40\n",
            "30/30 [==============================] - 0s 14ms/step - loss: 2.0607e-04 - mae: 0.0096 - val_loss: 2.0648e-04 - val_mae: 0.0107\n",
            "Epoch 3/40\n",
            "30/30 [==============================] - 0s 14ms/step - loss: 1.8896e-04 - mae: 0.0092 - val_loss: 2.5319e-04 - val_mae: 0.0124\n",
            "Epoch 4/40\n",
            "30/30 [==============================] - 0s 8ms/step - loss: 2.0695e-04 - mae: 0.0095 - val_loss: 4.1784e-04 - val_mae: 0.0169\n",
            "Epoch 5/40\n",
            "30/30 [==============================] - 0s 9ms/step - loss: 1.9413e-04 - mae: 0.0093 - val_loss: 3.1094e-04 - val_mae: 0.0142\n",
            "Epoch 6/40\n",
            "30/30 [==============================] - 0s 8ms/step - loss: 1.9520e-04 - mae: 0.0093 - val_loss: 2.0793e-04 - val_mae: 0.0108\n",
            "Epoch 7/40\n",
            "30/30 [==============================] - 0s 9ms/step - loss: 1.9779e-04 - mae: 0.0093 - val_loss: 2.2162e-04 - val_mae: 0.0113\n",
            "Epoch 8/40\n",
            "30/30 [==============================] - 0s 8ms/step - loss: 1.8544e-04 - mae: 0.0093 - val_loss: 2.2947e-04 - val_mae: 0.0116\n",
            "Epoch 9/40\n",
            "30/30 [==============================] - 0s 7ms/step - loss: 1.9369e-04 - mae: 0.0094 - val_loss: 3.2537e-04 - val_mae: 0.0146\n",
            "Epoch 10/40\n",
            "30/30 [==============================] - 0s 7ms/step - loss: 1.9889e-04 - mae: 0.0092 - val_loss: 2.6232e-04 - val_mae: 0.0127\n",
            "Epoch 11/40\n",
            "30/30 [==============================] - 0s 6ms/step - loss: 1.7916e-04 - mae: 0.0091 - val_loss: 2.9710e-04 - val_mae: 0.0138\n",
            "Epoch 12/40\n",
            "30/30 [==============================] - 0s 7ms/step - loss: 1.7668e-04 - mae: 0.0090 - val_loss: 2.4031e-04 - val_mae: 0.0120\n",
            "Epoch 13/40\n",
            "30/30 [==============================] - 0s 7ms/step - loss: 1.9241e-04 - mae: 0.0093 - val_loss: 4.2653e-04 - val_mae: 0.0171\n",
            "Epoch 14/40\n",
            "30/30 [==============================] - 0s 7ms/step - loss: 1.8362e-04 - mae: 0.0093 - val_loss: 2.8193e-04 - val_mae: 0.0133\n",
            "Epoch 15/40\n",
            "30/30 [==============================] - 0s 8ms/step - loss: 1.8859e-04 - mae: 0.0092 - val_loss: 2.3629e-04 - val_mae: 0.0118\n",
            "Epoch 16/40\n",
            "30/30 [==============================] - 0s 7ms/step - loss: 1.9218e-04 - mae: 0.0092 - val_loss: 2.6366e-04 - val_mae: 0.0128\n",
            "Epoch 17/40\n",
            "30/30 [==============================] - 0s 8ms/step - loss: 2.0608e-04 - mae: 0.0094 - val_loss: 2.2725e-04 - val_mae: 0.0115\n",
            "Epoch 18/40\n",
            "30/30 [==============================] - 0s 8ms/step - loss: 1.8059e-04 - mae: 0.0091 - val_loss: 2.6463e-04 - val_mae: 0.0128\n",
            "Epoch 19/40\n",
            "30/30 [==============================] - 0s 13ms/step - loss: 1.8170e-04 - mae: 0.0090 - val_loss: 2.1132e-04 - val_mae: 0.0109\n",
            "Epoch 20/40\n",
            "30/30 [==============================] - 0s 14ms/step - loss: 1.9261e-04 - mae: 0.0093 - val_loss: 2.0659e-04 - val_mae: 0.0107\n",
            "Epoch 21/40\n",
            "30/30 [==============================] - 0s 13ms/step - loss: 1.9131e-04 - mae: 0.0092 - val_loss: 3.0538e-04 - val_mae: 0.0140\n",
            "Epoch 22/40\n",
            "30/30 [==============================] - 0s 7ms/step - loss: 1.8368e-04 - mae: 0.0092 - val_loss: 2.7944e-04 - val_mae: 0.0133\n",
            "Epoch 23/40\n",
            "30/30 [==============================] - 0s 8ms/step - loss: 1.7992e-04 - mae: 0.0091 - val_loss: 5.1725e-04 - val_mae: 0.0193\n",
            "Epoch 24/40\n",
            "30/30 [==============================] - 0s 7ms/step - loss: 1.8288e-04 - mae: 0.0092 - val_loss: 2.5368e-04 - val_mae: 0.0124\n",
            "Epoch 25/40\n",
            "30/30 [==============================] - 0s 7ms/step - loss: 1.8164e-04 - mae: 0.0089 - val_loss: 2.0419e-04 - val_mae: 0.0105\n",
            "Epoch 26/40\n",
            "30/30 [==============================] - 0s 13ms/step - loss: 1.9484e-04 - mae: 0.0093 - val_loss: 2.2662e-04 - val_mae: 0.0115\n",
            "Epoch 27/40\n",
            "30/30 [==============================] - 0s 15ms/step - loss: 1.8900e-04 - mae: 0.0091 - val_loss: 3.4940e-04 - val_mae: 0.0152\n",
            "Epoch 28/40\n",
            "30/30 [==============================] - 0s 13ms/step - loss: 1.9163e-04 - mae: 0.0092 - val_loss: 2.8817e-04 - val_mae: 0.0135\n",
            "Epoch 29/40\n",
            "30/30 [==============================] - 0s 9ms/step - loss: 1.9495e-04 - mae: 0.0094 - val_loss: 2.0852e-04 - val_mae: 0.0108\n",
            "Epoch 30/40\n",
            "30/30 [==============================] - 0s 7ms/step - loss: 1.8329e-04 - mae: 0.0090 - val_loss: 3.2771e-04 - val_mae: 0.0147\n",
            "Epoch 31/40\n",
            "30/30 [==============================] - 0s 7ms/step - loss: 1.8799e-04 - mae: 0.0092 - val_loss: 2.0635e-04 - val_mae: 0.0107\n",
            "Epoch 32/40\n",
            "30/30 [==============================] - 0s 8ms/step - loss: 1.9262e-04 - mae: 0.0094 - val_loss: 2.2184e-04 - val_mae: 0.0113\n",
            "Epoch 33/40\n",
            "30/30 [==============================] - 0s 8ms/step - loss: 1.8782e-04 - mae: 0.0092 - val_loss: 2.1213e-04 - val_mae: 0.0109\n",
            "Epoch 34/40\n",
            "30/30 [==============================] - 0s 7ms/step - loss: 1.7650e-04 - mae: 0.0090 - val_loss: 4.1272e-04 - val_mae: 0.0168\n",
            "Epoch 35/40\n",
            "30/30 [==============================] - 0s 8ms/step - loss: 1.9167e-04 - mae: 0.0092 - val_loss: 2.2951e-04 - val_mae: 0.0116\n",
            "Epoch 36/40\n",
            "30/30 [==============================] - 0s 8ms/step - loss: 1.7522e-04 - mae: 0.0089 - val_loss: 2.4022e-04 - val_mae: 0.0120\n",
            "Epoch 37/40\n",
            "30/30 [==============================] - 0s 8ms/step - loss: 1.9281e-04 - mae: 0.0093 - val_loss: 2.5735e-04 - val_mae: 0.0126\n",
            "Epoch 38/40\n",
            "30/30 [==============================] - 0s 7ms/step - loss: 1.9485e-04 - mae: 0.0093 - val_loss: 4.4573e-04 - val_mae: 0.0176\n",
            "Epoch 39/40\n",
            "30/30 [==============================] - 0s 7ms/step - loss: 1.9499e-04 - mae: 0.0094 - val_loss: 2.7690e-04 - val_mae: 0.0132\n",
            "Epoch 40/40\n",
            "30/30 [==============================] - 0s 8ms/step - loss: 1.7224e-04 - mae: 0.0087 - val_loss: 2.2950e-04 - val_mae: 0.0116\n"
          ]
        },
        {
          "data": {
            "text/plain": [
              "<keras.callbacks.History at 0x1c5ec7a35b0>"
            ]
          },
          "execution_count": 24,
          "metadata": {},
          "output_type": "execute_result"
        }
      ],
      "source": [
        "import joblib\n",
        "model.fit(\n",
        "    trainX,\n",
        "    trainY,\n",
        "    batch_size=128,\n",
        "    epochs=40,\n",
        "    validation_split=0.05)\n",
        "\n",
        "\n",
        "\n",
        "joblib.dump(model, \"saved_model.pkl\")\n",
        "\n"
      ]
    },
    {
      "cell_type": "markdown",
      "metadata": {
        "id": "PNNUkkpIdCfK"
      },
      "source": [
        "**Final Predictions**"
      ]
    },
    {
      "cell_type": "code",
      "execution_count": 25,
      "metadata": {
        "colab": {
          "base_uri": "https://localhost:8080/",
          "height": 466
        },
        "id": "27AkkDUDXLkP",
        "outputId": "27e230bc-aa2a-4852-b41b-68210955bf5a"
      },
      "outputs": [
        {
          "name": "stdout",
          "output_type": "stream",
          "text": [
            "32/32 [==============================] - 1s 3ms/step\n"
          ]
        },
        {
          "data": {
            "image/png": "[encoded data removed]",
            "text/plain": [
              "<Figure size 640x480 with 1 Axes>"
            ]
          },
          "metadata": {},
          "output_type": "display_data"
        }
      ],
      "source": [
        "import matplotlib.pyplot as plt\n",
        "predicted_stateful = model.predict(testX)\n",
        "plt.plot(testY, color = 'red',label = 'Actual Closing Prices')\n",
        "plt.plot(predicted_stateful.flatten(), color = 'blue', label  = 'Predicted closing Prices')\n",
        "plt.xlabel('Days')\n",
        "plt.ylabel('Normalised Prices')\n",
        "plt.legend(loc='best')\n",
        "plt.show()"
      ]
    },
    {
      "cell_type": "markdown",
      "metadata": {
        "id": "nc-mIZspkToH"
      },
      "source": [
        "**So LSTM  works great to predict Closing Prices when we normalize the prices and predict the stock Price movement.**"
      ]
    },
    {
      "cell_type": "code",
      "execution_count": 26,
      "metadata": {
        "colab": {
          "base_uri": "https://localhost:8080/"
        },
        "id": "6Im_DUAVIr3K",
        "outputId": "cdd9d4d9-f2bd-46c1-ff01-89994245bc03"
      },
      "outputs": [
        {
          "name": "stdout",
          "output_type": "stream",
          "text": [
            "32/32 [==============================] - 0s 3ms/step - loss: 2.0172e-05 - mae: 0.0021\n"
          ]
        }
      ],
      "source": [
        "mae = model.evaluate(trainX,\n",
        "    trainY,\n",
        "    batch_size=128,verbose=1)"
      ]
    }
  ],
  "metadata": {
    "accelerator": "GPU",
    "colab": {
      "provenance": []
    },
    "kernelspec": {
      "display_name": "Python 3",
      "name": "python3"
    },
    "language_info": {
      "codemirror_mode": {
        "name": "ipython",
        "version": 3
      },
      "file_extension": ".py",
      "mimetype": "text/x-python",
      "name": "python",
      "nbconvert_exporter": "python",
      "pygments_lexer": "ipython3",
      "version": "3.10.11"
    }
  },
  "nbformat": 4,
  "nbformat_minor": 0
}
